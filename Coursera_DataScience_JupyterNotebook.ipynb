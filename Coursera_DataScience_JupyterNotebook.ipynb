{
 "cells": [
  {
   "cell_type": "markdown",
   "id": "00a80311",
   "metadata": {},
   "source": [
    "# My Jupyter Notebook on IBM Watson Studio"
   ]
  },
  {
   "cell_type": "markdown",
   "id": "b8d6c396",
   "metadata": {},
   "source": [
    "**Anne Köpsel** \n",
    "\n",
    "Lab Engineer"
   ]
  },
  {
   "cell_type": "markdown",
   "id": "97994d85",
   "metadata": {},
   "source": [
    "*I am interested in Data Science because I have always been fascinated by numbers. Moreover, they usually provide you with facts and not fiction.* "
   ]
  },
  {
   "cell_type": "markdown",
   "id": "805c1383",
   "metadata": {},
   "source": [
    "### My code converts 37 degrees Celsius to Fahrenheit and outputs the result.  "
   ]
  },
  {
   "cell_type": "code",
   "execution_count": 2,
   "id": "a3b2304a",
   "metadata": {},
   "outputs": [
    {
     "name": "stdout",
     "output_type": "stream",
     "text": [
      "98.60000000000001\n"
     ]
    }
   ],
   "source": [
    "Fahrenheit = 1.8*37+32\n",
    "print(Fahrenheit)"
   ]
  },
  {
   "cell_type": "markdown",
   "id": "970b6e91",
   "metadata": {},
   "source": [
    "* This\n",
    "* is \n",
    "* my\n",
    "* bulleted\n",
    "* list\n",
    "\n",
    "1. This\n",
    "2. is\n",
    "3. my\n",
    "4. numbered\n",
    "5. list\n",
    "\n",
    "| This | is | the | header |\n",
    "--- | --- |--- | --- |\n",
    "| This | is | the | content |"
   ]
  }
 ],
 "metadata": {
  "kernelspec": {
   "display_name": "Python 3 (ipykernel)",
   "language": "python",
   "name": "python3"
  },
  "language_info": {
   "codemirror_mode": {
    "name": "ipython",
    "version": 3
   },
   "file_extension": ".py",
   "mimetype": "text/x-python",
   "name": "python",
   "nbconvert_exporter": "python",
   "pygments_lexer": "ipython3",
   "version": "3.9.12"
  }
 },
 "nbformat": 4,
 "nbformat_minor": 5
}
